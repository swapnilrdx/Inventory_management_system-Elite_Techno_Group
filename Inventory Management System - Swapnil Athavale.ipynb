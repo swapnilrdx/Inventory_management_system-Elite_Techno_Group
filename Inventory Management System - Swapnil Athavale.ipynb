{
 "cells": [
  {
   "cell_type": "markdown",
   "metadata": {},
   "source": [
    "<h1>Imports<h1>"
   ]
  },
  {
   "cell_type": "code",
   "execution_count": 12,
   "metadata": {},
   "outputs": [],
   "source": [
    "import json"
   ]
  },
  {
   "cell_type": "markdown",
   "metadata": {},
   "source": [
    "<h1> For Reading from JSON file </h1>"
   ]
  },
  {
   "cell_type": "code",
   "execution_count": 1,
   "metadata": {},
   "outputs": [],
   "source": [
    "def read_from_json():\n",
    "    fd = open(\"records.json\",'r')\n",
    "    r = fd.read()\n",
    "    fd.close()\n",
    "\n",
    "    record = json.loads(r)\n",
    "    return record"
   ]
  },
  {
   "cell_type": "code",
   "execution_count": 104,
   "metadata": {},
   "outputs": [],
   "source": [
    "#record = read_from_json()"
   ]
  },
  {
   "cell_type": "markdown",
   "metadata": {},
   "source": [
    "<h1>For Writing in JSON file</h1>"
   ]
  },
  {
   "cell_type": "code",
   "execution_count": 2,
   "metadata": {},
   "outputs": [],
   "source": [
    "def write_to_json(record):\n",
    "    js = json.dumps(record)\n",
    "    try:\n",
    "        fd = open(\"records.json\",'w')\n",
    "        fd.write(js)\n",
    "        fd.close()\n",
    "        print('Data write successful')\n",
    "    except:\n",
    "        print('Data write failed')"
   ]
  },
  {
   "cell_type": "markdown",
   "metadata": {},
   "source": [
    "<h1>For Displaying Items</h1>"
   ]
  },
  {
   "cell_type": "code",
   "execution_count": 3,
   "metadata": {},
   "outputs": [],
   "source": [
    "def display_item_list():\n",
    "    record = read_from_json()\n",
    "    key_list = record.keys()\n",
    "    #print(key_list)\n",
    "    print(f'{\"Item ID\":<16} {\"Item Name\":<30} {\"Item Price\":<20} {\"Item Quantity\":<20}')\n",
    "    for x in key_list:\n",
    "        print(f'{x:<16} {record[x][\"name\"]:<30} {record[x][\"pr\"]:<20} {record[x][\"qn\"]} ')"
   ]
  },
  {
   "cell_type": "code",
   "execution_count": 107,
   "metadata": {},
   "outputs": [],
   "source": [
    "#display_item_list()"
   ]
  },
  {
   "cell_type": "markdown",
   "metadata": {},
   "source": [
    "<h1>For Adding new items into inventory</h1>"
   ]
  },
  {
   "cell_type": "code",
   "execution_count": 4,
   "metadata": {},
   "outputs": [],
   "source": [
    "def add_into_inventory():\n",
    "    record = read_from_json()\n",
    "    item_ID = input('Enter Item ID:').strip()\n",
    "    item_name = input('Enter Item Name:')\n",
    "    item_price = int(input('Enter Item Price:'))\n",
    "    item_qty = int(input('Enter item Quantity:'))\n",
    "    record_keys = record.keys()\n",
    "    if item_ID in record_keys:\n",
    "        print(f'Item with Item ID:{item_ID} is already present')\n",
    "    else:\n",
    "        record[item_ID] = {'name':item_name,'pr':item_price , 'qn': item_qty}\n",
    "        write_to_json(record)"
   ]
  },
  {
   "cell_type": "code",
   "execution_count": 109,
   "metadata": {},
   "outputs": [],
   "source": [
    "#add_into_inventory()\n",
    "#print(record)"
   ]
  },
  {
   "cell_type": "markdown",
   "metadata": {},
   "source": [
    "<h1>For Deleting item from inventory</h1>"
   ]
  },
  {
   "cell_type": "code",
   "execution_count": 5,
   "metadata": {},
   "outputs": [],
   "source": [
    "def delete_item_from_inventory():\n",
    "    record= read_from_json()\n",
    "    print('Enter Item ID to delete from following ')\n",
    "    display_item_list()\n",
    "    item_id = input('Enter item id:').strip()\n",
    "    record_keys = record.keys()\n",
    "    if item_id in record_keys:\n",
    "        del record[item_id]\n",
    "        print(f'Item with item ID {item_id} is deleted')\n",
    "        write_to_json(record)\n",
    "        display_item_list()\n",
    "    else: \n",
    "        print(f'No such item present with item ID {item_id}')"
   ]
  },
  {
   "cell_type": "code",
   "execution_count": 111,
   "metadata": {},
   "outputs": [],
   "source": [
    "#delete_item_from_inventory()"
   ]
  },
  {
   "cell_type": "markdown",
   "metadata": {},
   "source": [
    "<h1>For Purchasing new goods</h1>"
   ]
  },
  {
   "cell_type": "code",
   "execution_count": 6,
   "metadata": {},
   "outputs": [],
   "source": [
    "def purchase_goods():\n",
    "    record = read_from_json()\n",
    "    print('Enter Item ID and Quantity to purchase from following ')\n",
    "    display_item_list()\n",
    "    item_id = input('Enter item id: ').strip()\n",
    "    qty = int(input('Enter Quantity: '))\n",
    "    \n",
    "    record_keys = record.keys()\n",
    "    if item_id in record_keys:\n",
    "        if qty <= record[item_id]['qn']:\n",
    "            bill_amt = record[item_id]['pr']*qty\n",
    "            record[item_id]['qn']-=qty\n",
    "            print('Purchased')\n",
    "            print(f'Billing Amount = {bill_amt}')\n",
    "            print(f'Remaining quantity = {record[item_id][\"qn\"]}')\n",
    "            if record[item_id]['qn']==0:\n",
    "                del record[item_id]\n",
    "            write_to_json(record)\n",
    "            print('\\nUpdated inventory')\n",
    "            display_item_list()\n",
    "        else:\n",
    "            print(f'Enough quantity not available for {item_id} - {record[item_id][\"name\"]}')\n",
    "    else:\n",
    "        print(f'No such item present with item ID {item_id}')"
   ]
  },
  {
   "cell_type": "code",
   "execution_count": 113,
   "metadata": {},
   "outputs": [],
   "source": [
    "#purchase_goods()"
   ]
  },
  {
   "cell_type": "markdown",
   "metadata": {},
   "source": [
    "<h1>For Editing the inventory</h1>"
   ]
  },
  {
   "cell_type": "code",
   "execution_count": 15,
   "metadata": {},
   "outputs": [],
   "source": [
    "def edit_inventory():\n",
    "    record = read_from_json()\n",
    "    display_item_list()\n",
    "    item_id = input('Enter Item ID to Edit:')\n",
    "    print('What do you want to edit')\n",
    "    print('1.Item ID\\n2.Other Details')\n",
    "    choice = int(input('Enter Choice:'))\n",
    "    if choice == 1:\n",
    "        new_item_id=input('Enter new id:')\n",
    "        record[new_item_id] = record[item_id]\n",
    "        print('Updated List')\n",
    "        del record[item_id]\n",
    "        write_to_json(record)\n",
    "        display_item_list()\n",
    "        \n",
    "    elif choice == 2:\n",
    "        print('Enter item details if no change then keep it blank')\n",
    "        new_item_name = input('Enter new Item name')\n",
    "        new_item_price = input('Enter new price')\n",
    "        new_item_quantity = input('Enter new Quantity')\n",
    "        if new_item_name != '':\n",
    "            record[item_id]['name'] = new_item_name\n",
    "        if new_item_price != '':\n",
    "            record[item_id]['pr'] = int(new_item_price)\n",
    "        if new_item_quantity != '':\n",
    "            record[item_id]['qn'] = int(new_item_quantity)\n",
    "        write_to_json(record)\n",
    "        display_item_list()\n",
    "    else:\n",
    "        print('Wrong Choice code !!!\\n Try Again...')\n",
    "        edit_inventory()"
   ]
  },
  {
   "cell_type": "markdown",
   "metadata": {},
   "source": [
    "<h1>Main code<h1>"
   ]
  },
  {
   "cell_type": "code",
   "execution_count": 16,
   "metadata": {},
   "outputs": [
    {
     "name": "stdout",
     "output_type": "stream",
     "text": [
      "Select from following options:\n",
      "1.Add new items to inventory\n",
      "2.Edit existing items in inventory\n",
      "3.Purchase items\n",
      "4.Delete items from inventory\n",
      "5.Display all items in inventory\n",
      "6.Exit\n",
      "Enter Choice Code:5\n",
      "Item ID          Item Name                      Item Price           Item Quantity       \n",
      "1001             Choco Cake                     100                  34 \n",
      "1002             Milk Cake                      800                  100 \n",
      "1004             Candy                          5                    1000 \n",
      "1005             Pen                            20                   100 \n",
      "1006             Phone                          50000                10 \n",
      "1011             Keyboard                       1999                 10 \n",
      "Select from following options:\n",
      "1.Add new items to inventory\n",
      "2.Edit existing items in inventory\n",
      "3.Purchase items\n",
      "4.Delete items from inventory\n",
      "5.Display all items in inventory\n",
      "6.Exit\n",
      "Enter Choice Code:2\n",
      "Item ID          Item Name                      Item Price           Item Quantity       \n",
      "1001             Choco Cake                     100                  34 \n",
      "1002             Milk Cake                      800                  100 \n",
      "1004             Candy                          5                    1000 \n",
      "1005             Pen                            20                   100 \n",
      "1006             Phone                          50000                10 \n",
      "1011             Keyboard                       1999                 10 \n",
      "Enter Item ID to Edit:1011\n",
      "What do you want to edit\n",
      "1.Item ID\n",
      "2.Other Details\n",
      "Enter Choice:2\n",
      "Enter item details if no change then keep it blank\n",
      "Enter new Item name\n",
      "Enter new price2000\n",
      "Enter new Quantity20\n",
      "Data write successful\n",
      "Item ID          Item Name                      Item Price           Item Quantity       \n",
      "1001             Choco Cake                     100                  34 \n",
      "1002             Milk Cake                      800                  100 \n",
      "1004             Candy                          5                    1000 \n",
      "1005             Pen                            20                   100 \n",
      "1006             Phone                          50000                10 \n",
      "1011             Keyboard                       2000                 20 \n",
      "Select from following options:\n",
      "1.Add new items to inventory\n",
      "2.Edit existing items in inventory\n",
      "3.Purchase items\n",
      "4.Delete items from inventory\n",
      "5.Display all items in inventory\n",
      "6.Exit\n",
      "Enter Choice Code:2\n",
      "Item ID          Item Name                      Item Price           Item Quantity       \n",
      "1001             Choco Cake                     100                  34 \n",
      "1002             Milk Cake                      800                  100 \n",
      "1004             Candy                          5                    1000 \n",
      "1005             Pen                            20                   100 \n",
      "1006             Phone                          50000                10 \n",
      "1011             Keyboard                       2000                 20 \n",
      "Enter Item ID to Edit:1011\n",
      "What do you want to edit\n",
      "1.Item ID\n",
      "2.Other Details\n",
      "Enter Choice:2\n",
      "Enter item details if no change then keep it blank\n",
      "Enter new Item name\n",
      "Enter new price\n",
      "Enter new Quantity\n",
      "Data write successful\n",
      "Item ID          Item Name                      Item Price           Item Quantity       \n",
      "1001             Choco Cake                     100                  34 \n",
      "1002             Milk Cake                      800                  100 \n",
      "1004             Candy                          5                    1000 \n",
      "1005             Pen                            20                   100 \n",
      "1006             Phone                          50000                10 \n",
      "1011             Keyboard                       2000                 20 \n",
      "Select from following options:\n",
      "1.Add new items to inventory\n",
      "2.Edit existing items in inventory\n",
      "3.Purchase items\n",
      "4.Delete items from inventory\n",
      "5.Display all items in inventory\n",
      "6.Exit\n",
      "Enter Choice Code:6\n"
     ]
    }
   ],
   "source": [
    "choice = 1\n",
    "while choice == 1:\n",
    "    print('Select from following options:')\n",
    "    print('1.Add new items to inventory')\n",
    "    print('2.Edit existing items in inventory')\n",
    "    print('3.Purchase items')\n",
    "    print('4.Delete items from inventory')\n",
    "    print('5.Display all items in inventory')\n",
    "    print('6.Exit')\n",
    "    option = int(input('Enter Choice Code:'))\n",
    "    if option == 1:\n",
    "        add_into_inventory()\n",
    "    elif option == 2:\n",
    "        edit_inventory()\n",
    "    elif option == 3:\n",
    "        purchase_goods()\n",
    "    elif option == 4:\n",
    "        delete_item_from_inventory()\n",
    "    elif option ==5:\n",
    "        display_item_list()\n",
    "    elif option ==6:\n",
    "        break\n",
    "    else:\n",
    "        print('Invalid Choice Code !!! \\nTry Again...')"
   ]
  },
  {
   "cell_type": "code",
   "execution_count": null,
   "metadata": {},
   "outputs": [],
   "source": []
  }
 ],
 "metadata": {
  "kernelspec": {
   "display_name": "Python 3",
   "language": "python",
   "name": "python3"
  },
  "language_info": {
   "codemirror_mode": {
    "name": "ipython",
    "version": 3
   },
   "file_extension": ".py",
   "mimetype": "text/x-python",
   "name": "python",
   "nbconvert_exporter": "python",
   "pygments_lexer": "ipython3",
   "version": "3.8.5"
  }
 },
 "nbformat": 4,
 "nbformat_minor": 4
}
